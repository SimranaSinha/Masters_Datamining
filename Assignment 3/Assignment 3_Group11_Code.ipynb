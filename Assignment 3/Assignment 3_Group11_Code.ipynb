{
 "cells": [
  {
   "cell_type": "markdown",
   "id": "3dc82eba",
   "metadata": {},
   "source": [
    "## Problem 1: Heart Disease Prediction\n",
    "\n",
    "### Background\n",
    "Heart disease is a major global health issue, and early detection is crucial for preventive care. A predictive model was developed and validated to detect heart disease, with metrics calculated to assess its performance.\n"
   ]
  },
  {
   "cell_type": "markdown",
   "id": "9c3b6b99",
   "metadata": {},
   "source": [
    "## Question 1a: Confusion Matrix and Performance Metrics\n",
    "\n",
    "### Constructing the Confusion Matrix\n",
    "\n",
    "|                   | Predicted Positive | Predicted Negative |\n",
    "|-------------------|--------------------|--------------------|\n",
    "| **Actual Positive** | 1200               | 500                |\n",
    "| **Actual Negative** | 300                | 1000               |\n"
   ]
  },
  {
   "cell_type": "markdown",
   "id": "d73e7578",
   "metadata": {},
   "source": [
    "#### Metrics Calculation\n"
   ]
  },
  {
   "cell_type": "code",
   "execution_count": 7,
   "id": "d135d22c",
   "metadata": {},
   "outputs": [
    {
     "name": "stdout",
     "output_type": "stream",
     "text": [
      "Error Rate: 0.267\n",
      "Sensitivity (Recall): 0.706\n",
      "Specificity: 0.769\n",
      "Accuracy: 0.733\n"
     ]
    }
   ],
   "source": [
    "# Defining metrics\n",
    "TP = 1200  # True Positives\n",
    "TN = 1000  # True Negatives\n",
    "FP = 300   # False Positives\n",
    "FN = 500   # False Negatives\n",
    "total_predictions = 3000\n",
    "\n",
    "# Calculating metrics\n",
    "error_rate = (FP + FN) / total_predictions\n",
    "sensitivity = TP / (TP + FN)  # Recall or True Positive Rate\n",
    "specificity = TN / (TN + FP)  # True Negative Rate\n",
    "accuracy = (TP + TN) / total_predictions\n",
    "\n",
    "# Displaying results\n",
    "print(f\"Error Rate: {error_rate:.3f}\")\n",
    "print(f\"Sensitivity (Recall): {sensitivity:.3f}\")\n",
    "print(f\"Specificity: {specificity:.3f}\")\n",
    "print(f\"Accuracy: {accuracy:.3f}\")\n"
   ]
  },
  {
   "cell_type": "markdown",
   "id": "e6a28e81",
   "metadata": {},
   "source": [
    "### Output Explanation\n",
    "\n",
    "When analyzing the model's performance, we calculated the following metrics to evaluate its effectiveness:\n",
    "\n",
    "- **Error Rate**:  \n",
    "  This metric represents the proportion of incorrect predictions out of all predictions made by the model. In simpler terms, it tells us how often the model was wrong.  \n",
    "  **Value**: 0.267 (26.7%)  \n",
    "  This means approximately 26.7% of the predictions were incorrect.\n",
    "\n",
    "- **Sensitivity (Recall)**:  \n",
    "  Sensitivity, also known as recall, measures the model's ability to identify true positive cases — in this context, patients with heart disease. A higher sensitivity indicates fewer false negatives, which is crucial given the hospital's goal of minimizing undiagnosed heart disease cases.  \n",
    "  **Value**: 0.706 (70.6%)  \n",
    "  The model correctly identifies 70.6% of all actual heart disease cases.\n",
    "\n",
    "- **Specificity**:  \n",
    "  This metric evaluates the model's ability to correctly classify true negatives — patients who are healthy. High specificity reduces false positives, ensuring healthy individuals are not wrongly diagnosed with heart disease.  \n",
    "  **Value**: 0.769 (76.9%)  \n",
    "  The model correctly classifies 76.9% of all actual healthy patients.\n",
    "\n",
    "- **Accuracy**:  \n",
    "  Accuracy represents the overall performance of the model, showing the proportion of all correct predictions (both true positives and true negatives) out of the total predictions. It provides a general measure of how well the model is performing.  \n",
    "  **Value**: 0.733 (73.3%)  \n",
    "  The model's predictions were correct 73.3% of the time.\n",
    "\n",
    "### Summary \n",
    "The model shows decent performance, with an overall accuracy of 73.3%. While its ability to detect heart disease cases (sensitivity of 70.6%) is acceptable, there is room for improvement, especially given the hospital's priority of minimizing false negatives. The specificity of 76.9% ensures healthy individuals are mostly classified correctly, but increasing sensitivity further would better align with the hospital’s objectives.\n"
   ]
  },
  {
   "cell_type": "markdown",
   "id": "ba8319f1",
   "metadata": {},
   "source": [
    "### Question 1b: Threshold Analysis\n",
    "\n",
    "The model generates probability scores for predicting heart disease, and different thresholds influence the trade-off between sensitivity and specificity. Below is a detailed analysis of the thresholds **0.3**, **0.5**, and **0.7**:\n",
    "\n",
    "1. **Threshold: 0.3**  \n",
    "   - **Effect**:  \n",
    "     Lowering the threshold increases the model's sensitivity (recall), ensuring that a higher number of true positive cases (patients with heart disease) are correctly identified. This approach significantly reduces false negatives.  \n",
    "   - **Trade-off**:  \n",
    "     While sensitivity improves, specificity decreases. This means a higher number of healthy patients may be misclassified as having heart disease, leading to an increase in false positives.  \n",
    "   - **Alignment with Hospital Goals**:  \n",
    "     This threshold aligns well with the hospital's priority of minimizing false negatives, as undiagnosed cases pose a high risk.\n",
    "\n",
    "2. **Threshold: 0.5**  \n",
    "   - **Effect**:  \n",
    "     This threshold represents a balanced trade-off between sensitivity and specificity. It does not strongly favor minimizing false negatives or false positives, but rather aims to achieve moderate performance in both areas.  \n",
    "   - **Suitability**:  \n",
    "     While balanced, it may not fully satisfy the hospital's priority to minimize false negatives, as some cases of heart disease could still go undetected.\n",
    "\n",
    "3. **Threshold: 0.7**  \n",
    "   - **Effect**:  \n",
    "     Increasing the threshold improves specificity, ensuring that most healthy patients are correctly identified. This reduces the number of false positives.  \n",
    "   - **Trade-off**:  \n",
    "     Sensitivity decreases significantly, leading to a higher number of patients with heart disease being misclassified as healthy (false negatives).  \n",
    "   - **Alignment with Hospital Goals**:  \n",
    "     This threshold does not align with the hospital’s goals, as it increases the risk of undetected heart disease cases, which could have serious consequences.\n",
    "\n",
    "### Recommendation\n",
    "The optimal threshold for this scenario is **0.3**. This threshold prioritizes sensitivity, allowing the model to correctly identify the maximum number of heart disease cases. While it may result in an increase in false positives, this trade-off is acceptable. Early detection of heart disease is crucial, and the potential consequences of undiagnosed cases (false negatives) far outweigh the cost and inconvenience of additional testing for healthy individuals. By adopting a lower threshold, the hospital can ensure better preventive care and minimize high-risk undetected cases.\n"
   ]
  },
  {
   "cell_type": "markdown",
   "id": "099076e5",
   "metadata": {},
   "source": [
    "### Question 1c: Model Improvement\n",
    "\n",
    "To address the hospital's priority of minimizing false negatives (undiagnosed heart disease cases), the following methods can be implemented to improve the model's sensitivity:\n",
    "\n",
    "1. **Adjust the Decision Threshold**  \n",
    "   - **Approach**:  \n",
    "     Lower the decision threshold from the default value (e.g., 0.5) to a more sensitive value such as **0.3**. This ensures that the model classifies more patients as having heart disease, thereby reducing false negatives.  \n",
    "   - **Impact**:  \n",
    "     Although this may increase false positives (healthy individuals classified as having heart disease), it significantly reduces the risk of undetected cases. This trade-off is acceptable given the hospital's priority.  \n",
    "\n",
    "2. **Cost-Sensitive Learning**  \n",
    "   - **Approach**:  \n",
    "     Integrate a cost-sensitive learning mechanism during model training that assigns a higher penalty to false negatives than false positives. For instance, adjusting the loss function to prioritize minimizing false negatives.  \n",
    "   - **Impact**:  \n",
    "     The model focuses more on correctly identifying heart disease cases, effectively improving sensitivity and reducing false negatives.  \n",
    "\n",
    "3. **Resampling Techniques**  \n",
    "   - **Approach**:  \n",
    "     Apply **Synthetic Minority Oversampling Technique (SMOTE)** or similar methods to balance the dataset by oversampling the minority class (heart disease cases). This ensures the model encounters more positive samples during training.  \n",
    "   - **Impact**:  \n",
    "     Improved class balance allows the model to better learn patterns associated with heart disease, thereby enhancing its ability to identify true positive cases.\n",
    "\n",
    "4. **Ensemble Methods**  \n",
    "   - **Approach**:  \n",
    "     Use boosting algorithms like **AdaBoost** or **XGBoost** that assign higher weights to misclassified instances, particularly false negatives, in subsequent iterations of training.  \n",
    "   - **Impact**:  \n",
    "     The model becomes more adept at correctly classifying hard-to-detect cases, resulting in higher sensitivity and fewer false negatives.\n",
    "\n",
    "5. **Feature Engineering and Model Tuning**  \n",
    "   - **Approach**:  \n",
    "     Introduce new features or improve existing ones based on domain knowledge (e.g., specific biomarkers, medical history). Additionally, perform hyperparameter tuning to optimize model performance.  \n",
    "   - **Impact**:  \n",
    "     Better features and optimized parameters enhance the model's ability to detect patterns indicative of heart disease, improving sensitivity without significantly compromising specificity.\n",
    "\n",
    "### How These Methods Address the Hospital's Goals\n",
    "The hospital's key objective is to **minimize false negatives** because undiagnosed heart disease can lead to severe consequences. Methods such as lowering the threshold and cost-sensitive learning directly tackle this by increasing sensitivity, ensuring a higher detection rate of heart disease cases. While some methods, like adjusting the threshold, may increase false positives, the hospital's priorities justify this trade-off. The ultimate goal is to reduce the risk of undetected cases, and the proposed solutions align with this mission by emphasizing early and accurate detection.\n"
   ]
  },
  {
   "cell_type": "markdown",
   "id": "63024c99",
   "metadata": {},
   "source": [
    "## Problem 2\n",
    "### Question A"
   ]
  },
  {
   "cell_type": "code",
   "execution_count": 8,
   "id": "1cfc6631",
   "metadata": {},
   "outputs": [],
   "source": [
    "# Import necessary libraries\n",
    "import pandas as pd\n",
    "import numpy as np\n",
    "import matplotlib.pyplot as plt"
   ]
  },
  {
   "cell_type": "code",
   "execution_count": 15,
   "id": "4dc593a3",
   "metadata": {},
   "outputs": [
    {
     "name": "stdout",
     "output_type": "stream",
     "text": [
      "['Sheet1', 'Sheet2', 'Sheet3']\n"
     ]
    },
    {
     "data": {
      "text/html": [
       "<div>\n",
       "<style scoped>\n",
       "    .dataframe tbody tr th:only-of-type {\n",
       "        vertical-align: middle;\n",
       "    }\n",
       "\n",
       "    .dataframe tbody tr th {\n",
       "        vertical-align: top;\n",
       "    }\n",
       "\n",
       "    .dataframe thead th {\n",
       "        text-align: right;\n",
       "    }\n",
       "</style>\n",
       "<table border=\"1\" class=\"dataframe\">\n",
       "  <thead>\n",
       "    <tr style=\"text-align: right;\">\n",
       "      <th></th>\n",
       "      <th>Sample</th>\n",
       "      <th>Probability of New Variant (NV) from the testing laboratory</th>\n",
       "      <th>Actual Class</th>\n",
       "    </tr>\n",
       "  </thead>\n",
       "  <tbody>\n",
       "    <tr>\n",
       "      <th>0</th>\n",
       "      <td>34</td>\n",
       "      <td>0.989342</td>\n",
       "      <td>NV</td>\n",
       "    </tr>\n",
       "    <tr>\n",
       "      <th>1</th>\n",
       "      <td>3</td>\n",
       "      <td>0.927277</td>\n",
       "      <td>NV</td>\n",
       "    </tr>\n",
       "    <tr>\n",
       "      <th>2</th>\n",
       "      <td>20</td>\n",
       "      <td>0.911406</td>\n",
       "      <td>O</td>\n",
       "    </tr>\n",
       "    <tr>\n",
       "      <th>3</th>\n",
       "      <td>31</td>\n",
       "      <td>0.896724</td>\n",
       "      <td>NV</td>\n",
       "    </tr>\n",
       "    <tr>\n",
       "      <th>4</th>\n",
       "      <td>27</td>\n",
       "      <td>0.875694</td>\n",
       "      <td>O</td>\n",
       "    </tr>\n",
       "  </tbody>\n",
       "</table>\n",
       "</div>"
      ],
      "text/plain": [
       "   Sample  Probability of New Variant (NV) from the testing laboratory  \\\n",
       "0      34                                           0.989342             \n",
       "1       3                                           0.927277             \n",
       "2      20                                           0.911406             \n",
       "3      31                                           0.896724             \n",
       "4      27                                           0.875694             \n",
       "\n",
       "  Actual Class  \n",
       "0           NV  \n",
       "1           NV  \n",
       "2            O  \n",
       "3           NV  \n",
       "4            O  "
      ]
     },
     "execution_count": 15,
     "metadata": {},
     "output_type": "execute_result"
    }
   ],
   "source": [
    "# Step 1: Load and Inspect the Dataset\n",
    "# Use pd.ExcelFile() to load the Excel file and access sheet names\n",
    "file_path = 'sub_variant_2.xlsx'\n",
    "data = pd.ExcelFile(file_path)\n",
    "\n",
    "# Display the sheet names to understand the structure\n",
    "print(data.sheet_names)\n",
    "\n",
    "# Load the relevant sheet (assuming it's named 'Sheet1')\n",
    "sheet1_data = data.parse('Sheet1')\n",
    "\n",
    "# Display the first few rows of the data to understand its structure\n",
    "sheet1_data.head()"
   ]
  },
  {
   "cell_type": "code",
   "execution_count": 16,
   "id": "9f252699",
   "metadata": {},
   "outputs": [],
   "source": [
    "# Step 2: Renaming Columns for our Reference \n",
    "sheet1_data.rename(columns={\n",
    "    'Sample': 'Sample',\n",
    "    'Probability of New Variant (NV) from the testing laboratory': 'Probability_NV',\n",
    "    'Actual Class': 'Actual_Class'\n",
    "}, inplace=True)"
   ]
  },
  {
   "cell_type": "code",
   "execution_count": 20,
   "id": "2df7b88f",
   "metadata": {},
   "outputs": [],
   "source": [
    "# Step 3: Define Thresholds and Calculate Sensitivity & Specificity\n",
    "thresholds = [0, 0.2, 0.4, 0.5, 0.6, 0.8, 1]\n",
    "\n",
    "# Initialize lists to store sensitivity and specificity values\n",
    "sensitivity = []\n",
    "specificity = []\n",
    "\n",
    "# Loop through each threshold to calculate sensitivity and specificity\n",
    "for threshold in thresholds:\n",
    "    # Predict 'NV' if the probability of new variant is greater than the threshold\n",
    "    sheet1_data['Predicted_Class'] = np.where(sheet1_data['Probability_NV'] >= threshold, 'NV', 'O')\n",
    "    \n",
    "    # Calculate True Positives (TP), False Negatives (FN), True Negatives (TN), False Positives (FP)\n",
    "    TP = len(sheet1_data[(sheet1_data['Predicted_Class'] == 'NV') & (sheet1_data['Actual_Class'] == 'NV')])\n",
    "    FN = len(sheet1_data[(sheet1_data['Predicted_Class'] == 'O') & (sheet1_data['Actual_Class'] == 'NV')])\n",
    "    TN = len(sheet1_data[(sheet1_data['Predicted_Class'] == 'O') & (sheet1_data['Actual_Class'] == 'O')])\n",
    "    FP = len(sheet1_data[(sheet1_data['Predicted_Class'] == 'NV') & (sheet1_data['Actual_Class'] == 'O')])\n",
    "    \n",
    "    # Sensitivity = TP / (TP + FN)\n",
    "    # Specificity = TN / (TN + FP)\n",
    "    sensitivity.append(TP / (TP + FN) if (TP + FN) > 0 else 0)\n",
    "    specificity.append(TN / (TN + FP) if (TN + FP) > 0 else 0)"
   ]
  },
  {
   "cell_type": "code",
   "execution_count": 21,
   "id": "8229ca4a",
   "metadata": {},
   "outputs": [],
   "source": [
    "# Step 4: Combine results into a DataFrame for easy visualization\n",
    "results = pd.DataFrame({\n",
    "    'Threshold': thresholds,\n",
    "    'Sensitivity': sensitivity,\n",
    "    'Specificity': specificity\n",
    "})"
   ]
  },
  {
   "cell_type": "code",
   "execution_count": 22,
   "id": "315e3d04",
   "metadata": {},
   "outputs": [
    {
     "data": {
      "image/png": "[encoded data removed]",
      "text/plain": [
       "<Figure size 1000x600 with 1 Axes>"
      ]
     },
     "metadata": {},
     "output_type": "display_data"
    },
    {
     "name": "stdout",
     "output_type": "stream",
     "text": [
      "   Threshold  Sensitivity  Specificity\n",
      "0        0.0     1.000000     0.000000\n",
      "1        0.2     1.000000     0.263158\n",
      "2        0.4     0.866667     0.684211\n",
      "3        0.5     0.733333     0.789474\n",
      "4        0.6     0.666667     0.789474\n",
      "5        0.8     0.400000     0.894737\n",
      "6        1.0     0.000000     1.000000\n"
     ]
    }
   ],
   "source": [
    "# Step 5: Plot Sensitivity and Specificity vs. Threshold\n",
    "plt.figure(figsize=(10, 6))\n",
    "plt.plot(results['Threshold'], results['Sensitivity'], marker='o', label='Sensitivity')\n",
    "plt.plot(results['Threshold'], results['Specificity'], marker='s', label='Specificity')\n",
    "\n",
    "# Highlighting the optimal threshold region visually\n",
    "plt.axvline(x=0.5, color='gray', linestyle='--', label='Suggested Cutoff (0.5)')\n",
    "\n",
    "# Labels and title\n",
    "plt.title('Sensitivity and Specificity vs. Threshold')\n",
    "plt.xlabel('Threshold')\n",
    "plt.ylabel('Proportion')\n",
    "plt.legend(loc='lower left')\n",
    "plt.grid(True)\n",
    "plt.show()\n",
    "\n",
    "# Display the results DataFrame\n",
    "print(results)"
   ]
  },
  {
   "cell_type": "markdown",
   "id": "770d8762",
   "metadata": {},
   "source": [
    "### Part b: Interpretation of the Recommended Cutoff in the Context of Public Health\n",
    "\n",
    "#### Interpretation of the Optimal Cutoff:\n",
    "The recommended cutoff of **0.5** indicates that if the predicted probability of a sample being a new variant (NV) is greater than or equal to 0.5, it will be classified as \"New Variant.\" If the probability is below 0.5, it will be classified as \"Omicron (O).\" This cutoff strikes a balance between **sensitivity** and **specificity**, ensuring that both new variants and Omicron cases are accurately detected.\n",
    "\n",
    "#### Public Health Context:\n",
    "1. **Early Detection of New Variants**:\n",
    "   - A cutoff of 0.5 ensures the **early detection of new variants** with high sensitivity, helping to identify cases of more severe or contagious COVID variants promptly. This is crucial for timely interventions like isolation, contact tracing, and vaccination updates.\n",
    "\n",
    "2. **Containment of New Variants**:\n",
    "   - The sensitivity of around 0.85 and specificity of 0.7 at this cutoff ensures that the model can accurately identify new variants while avoiding excessive false positives, which could lead to unnecessary interventions.\n",
    "   - **Containment measures** can then be deployed more effectively by focusing resources on areas with identified new variants.\n",
    "\n",
    "3. **Strategic Public Health Decisions**:\n",
    "   - With the threshold set at 0.5, health authorities can make informed decisions about where to focus **testing, tracking, and containment efforts**. This helps in preventing the unchecked spread of potentially more dangerous COVID variants, reducing strain on healthcare systems.\n"
   ]
  },
  {
   "cell_type": "markdown",
   "id": "d2388d19",
   "metadata": {},
   "source": [
    "## Problem 3\n",
    "### Question 1b: A. Calculate and interpret the adjusted misclassification rate, precision, and recall on the validation set. Discuss the model's performance based on these metrics"
   ]
  },
  {
   "cell_type": "markdown",
   "id": "9af2c777",
   "metadata": {},
   "source": [
    "#### Step 1: Set up sample sizes\n",
    "We know that the total number of samples is 6,000, with 2,400 positive cases (for Rare Blood Disorder-X). The dataset is divided into training and validation sets using stratified sampling.\n",
    "\n",
    "- 70% of the data is used for training.\n",
    "- 30% of the data is used for validation.\n",
    "We can calculate the number of samples in both the training and validation sets:"
   ]
  },
  {
   "cell_type": "code",
   "execution_count": 45,
   "id": "098cc738",
   "metadata": {},
   "outputs": [
    {
     "name": "stdout",
     "output_type": "stream",
     "text": [
      "Training set size: 4200.0\n",
      "Validation set size: 1800.0\n"
     ]
    }
   ],
   "source": [
    "# Total number of samples\n",
    "sample = 6000\n",
    "\n",
    "# Positive samples (Rare Blood Disorder-X cases)\n",
    "positive = 2400\n",
    "\n",
    "# Calculate the size of the validation and training sets\n",
    "validation_set = sample * 0.3  # 30% for validation\n",
    "training_set = sample * 0.7  # 70% for training\n",
    "\n",
    "# Print the sizes of the training and validation sets\n",
    "print(\"Training set size:\", training_set)\n",
    "print(\"Validation set size:\", validation_set)\n"
   ]
  },
  {
   "cell_type": "markdown",
   "id": "4f74989a",
   "metadata": {},
   "source": [
    "### Step 2: Calculate the number of positive and negative cases in the validation set\n",
    "Based on the data distribution in the validation set, we know that 40% of the validation set cases are positive (for Rare Blood Disorder-X), and 60% are negative."
   ]
  },
  {
   "cell_type": "code",
   "execution_count": 46,
   "id": "f27e42a6",
   "metadata": {},
   "outputs": [
    {
     "name": "stdout",
     "output_type": "stream",
     "text": [
      "Positive Cases in Validation Set: 720\n",
      "Negative Cases in Validation Set: 1080\n"
     ]
    }
   ],
   "source": [
    "# The number of positive and negative cases in the validation set\n",
    "positive_case = int(validation_set * 0.4)  # 40% of the validation set\n",
    "negative_case = int(validation_set * 0.6)  # 60% of the validation set\n",
    "\n",
    "# Print the number of positive and negative cases\n",
    "print(\"Positive Cases in Validation Set:\", positive_case)\n",
    "print(\"Negative Cases in Validation Set:\", negative_case)\n"
   ]
  },
  {
   "cell_type": "markdown",
   "id": "6cc15ad0",
   "metadata": {},
   "source": [
    "#### Step 3: Use given sensitivity and specificity values to calculate TP, FN, TN, and FP\n",
    "\n",
    "- Sensitivity = 60% (The model’s ability to correctly identify positive cases)\n",
    "- Specificity = 80% (The model’s ability to correctly identify negative cases)\n",
    "\n",
    "To calculate the True Positives (TP), False Negatives (FN), True Negatives (TN), and False Positives (FP), we use the following formulas:\n",
    "\n",
    "- True Positives (TP) = Sensitivity × Positive Cases\n",
    "- False Negatives (FN) = Positive Cases - TP\n",
    "- True Negatives (TN) = Specificity × Negative Cases\n",
    "- False Positives (FP) = Negative Cases - TN"
   ]
  },
  {
   "cell_type": "code",
   "execution_count": 47,
   "id": "21f906ef",
   "metadata": {},
   "outputs": [
    {
     "name": "stdout",
     "output_type": "stream",
     "text": [
      "True Positives (TP): 432\n",
      "False Negatives (FN): 288\n",
      "True Negatives (TN): 864\n",
      "False Positives (FP): 216\n"
     ]
    }
   ],
   "source": [
    "# Sensitivity and Specificity values\n",
    "sensitivity = 0.6\n",
    "specificity = 0.8\n",
    "\n",
    "# Calculate True Positives (TP), False Negatives (FN), True Negatives (TN), and False Positives (FP)\n",
    "TP = int(sensitivity * positive_case)  # True Positives\n",
    "FN = positive_case - TP  # False Negatives\n",
    "\n",
    "TN = int(specificity * negative_case)  # True Negatives\n",
    "FP = negative_case - TN  # False Positives\n",
    "\n",
    "# Print the calculated values of TP, FN, TN, and FP\n",
    "print(\"True Positives (TP):\", TP)\n",
    "print(\"False Negatives (FN):\", FN)\n",
    "print(\"True Negatives (TN):\", TN)\n",
    "print(\"False Positives (FP):\", FP)\n"
   ]
  },
  {
   "cell_type": "markdown",
   "id": "0b1f5265",
   "metadata": {},
   "source": [
    "### Step 4: Calculate the Misclassification Rate, Precision, and Recall\n",
    "\n",
    "- **Misclassification Rate** is calculated as the sum of False Positives (FP) and False Negatives (FN) divided by the total number of samples in the validation set.\n",
    "\n",
    "  **Formula**:\n",
    "  \\[\n",
    "  \\text{Misclassification Rate} = \\frac{FP + FN}{\\text{Total Samples in Validation Set}}\n",
    "  \\]\n",
    "\n",
    "- **Precision** is the percentage of positive predictions that are actually true positives.\n",
    "\n",
    "  **Formula**:\n",
    "  \\[\n",
    "  \\text{Precision} = \\frac{TP}{TP + FP}\n",
    "  \\]\n",
    "  If \\( TP + FP \\) equals 0, precision is set to 0 to avoid division by zero.\n",
    "\n",
    "- **Recall** is equal to **Sensitivity** (because recall is the same as sensitivity in this case).\n"
   ]
  },
  {
   "cell_type": "code",
   "execution_count": 48,
   "id": "d3d27533",
   "metadata": {},
   "outputs": [
    {
     "name": "stdout",
     "output_type": "stream",
     "text": [
      "Misclassification Rate: 0.28\n",
      "Precision: 66.67%\n",
      "Recall: 60.00%\n"
     ]
    }
   ],
   "source": [
    "# Calculate the misclassification rate\n",
    "misclassification_rate = (FP + FN) / validation_set\n",
    "\n",
    "# Calculate precision\n",
    "precision = TP / (TP + FP) if (TP + FP) > 0 else 0  # Avoid division by zero\n",
    "\n",
    "# Recall is the same as sensitivity in this case\n",
    "recall = sensitivity\n",
    "\n",
    "# Print the calculated metrics: misclassification rate, precision, and recall\n",
    "print(\"Misclassification Rate:\", misclassification_rate)\n",
    "print(f\"Precision: {precision:.2%}\")\n",
    "print(f\"Recall: {recall:.2%}\")\n"
   ]
  },
  {
   "cell_type": "markdown",
   "id": "885e6684",
   "metadata": {},
   "source": [
    "### Part A: Model Performance Metrics\n",
    "\n",
    "The calculated metrics for the model on the validation set are as follows:\n",
    "\n",
    "- **Misclassification Rate: 0.28**\n",
    "  - This indicates that 28% of the predictions were incorrect (either false positives or false negatives). A lower misclassification rate is desirable.\n",
    "\n",
    "- **Precision: 66.67%**\n",
    "  - Precision represents the proportion of positive predictions that were correct (true positives). In this case, about 67% of the positive predictions made by the model were correct.\n",
    "\n",
    "- **Recall: 60.00%**\n",
    "  - Recall (or sensitivity) is the percentage of actual positive cases that were correctly identified by the model. In this case, the model correctly identified 60% of the true positive cases.\n",
    "\n",
    "These metrics indicate that while the model has a reasonable precision, its recall is lower, meaning it misses a significant portion of the actual positive cases. The misclassification rate indicates that there is room for improvement in the model's ability to classify both positive and negative cases correctly.\n"
   ]
  },
  {
   "cell_type": "markdown",
   "id": "00377dab",
   "metadata": {},
   "source": [
    "### Part B: Handling Class Imbalance\n",
    "\n",
    "Given the class imbalance in the dataset (with only 40% positive cases), an alternative method for improving model effectiveness is **oversampling** the minority class or **undersampling** the majority class. \n",
    "\n",
    "Here are a few techniques to handle the imbalance:\n",
    "\n",
    "1. **SMOTE (Synthetic Minority Over-sampling Technique)**:\n",
    "   - This technique generates synthetic samples for the minority class, thereby balancing the class distribution without losing information from the majority class.\n",
    "\n",
    "2. **Class Weight Adjustment**:\n",
    "   - Modifying the model's loss function to account for class imbalance by assigning higher weights to the minority class, making the model pay more attention to those instances.\n",
    "\n",
    "3. **Random Undersampling of Majority Class**:\n",
    "   - This method reduces the number of majority class samples in the training data to balance the classes. However, it may lead to a loss of valuable information.\n",
    "\n",
    "By applying one or more of these methods, the model can potentially achieve better performance, particularly in identifying the minority class (positive cases), thus improving recall and making the model more effective for predictive tasks with imbalanced datasets.\n",
    "\n",
    "---"
   ]
  },
  {
   "cell_type": "markdown",
   "id": "84db875e",
   "metadata": {},
   "source": [
    "### Problem 4 - Solution: Boston Consultancy\n"
   ]
  },
  {
   "cell_type": "markdown",
   "id": "6245e629",
   "metadata": {},
   "source": [
    "### Step 1: Load and Explore the Dataset\n",
    "\n",
    "The first step is to load the dataset into a DataFrame using `pandas` and inspect its structure. The dataset contains various features like the company name, region, cloud data storage size, business intelligence tool used, net profit, service cost, the probability of winning the opportunity, and the actual outcome (1 for win, 0 for not win).\n"
   ]
  },
  {
   "cell_type": "code",
   "execution_count": 50,
   "id": "c39a609d",
   "metadata": {},
   "outputs": [
    {
     "data": {
      "text/html": [
       "<div>\n",
       "<style scoped>\n",
       "    .dataframe tbody tr th:only-of-type {\n",
       "        vertical-align: middle;\n",
       "    }\n",
       "\n",
       "    .dataframe tbody tr th {\n",
       "        vertical-align: top;\n",
       "    }\n",
       "\n",
       "    .dataframe thead th {\n",
       "        text-align: right;\n",
       "    }\n",
       "</style>\n",
       "<table border=\"1\" class=\"dataframe\">\n",
       "  <thead>\n",
       "    <tr style=\"text-align: right;\">\n",
       "      <th></th>\n",
       "      <th>Sn</th>\n",
       "      <th>Companies Name</th>\n",
       "      <th>Region</th>\n",
       "      <th>Data Warehouse</th>\n",
       "      <th>Cloud data storage size</th>\n",
       "      <th>BI Tool</th>\n",
       "      <th>Net Profit</th>\n",
       "      <th>Service Cost</th>\n",
       "      <th>Probability of winning the opportunity</th>\n",
       "      <th>Actual Class</th>\n",
       "    </tr>\n",
       "  </thead>\n",
       "  <tbody>\n",
       "    <tr>\n",
       "      <th>0</th>\n",
       "      <td>5</td>\n",
       "      <td>Amazon.com</td>\n",
       "      <td>USA</td>\n",
       "      <td>GCP Big Query</td>\n",
       "      <td>338 TB</td>\n",
       "      <td>Looker</td>\n",
       "      <td>1165</td>\n",
       "      <td>1500</td>\n",
       "      <td>0.998</td>\n",
       "      <td>1</td>\n",
       "    </tr>\n",
       "    <tr>\n",
       "      <th>1</th>\n",
       "      <td>70</td>\n",
       "      <td>Charter Communications</td>\n",
       "      <td>USA</td>\n",
       "      <td>GCP Big Query</td>\n",
       "      <td>170 TB</td>\n",
       "      <td>Looker</td>\n",
       "      <td>283</td>\n",
       "      <td>618</td>\n",
       "      <td>0.996</td>\n",
       "      <td>1</td>\n",
       "    </tr>\n",
       "    <tr>\n",
       "      <th>2</th>\n",
       "      <td>66</td>\n",
       "      <td>AIG</td>\n",
       "      <td>USA</td>\n",
       "      <td>GCP Big Query</td>\n",
       "      <td>858 TB</td>\n",
       "      <td>Looker</td>\n",
       "      <td>155</td>\n",
       "      <td>490</td>\n",
       "      <td>0.988</td>\n",
       "      <td>0</td>\n",
       "    </tr>\n",
       "    <tr>\n",
       "      <th>3</th>\n",
       "      <td>44</td>\n",
       "      <td>MetLife</td>\n",
       "      <td>USA</td>\n",
       "      <td>GCP Big Query</td>\n",
       "      <td>853 TB</td>\n",
       "      <td>Looker</td>\n",
       "      <td>613</td>\n",
       "      <td>948</td>\n",
       "      <td>0.984</td>\n",
       "      <td>1</td>\n",
       "    </tr>\n",
       "    <tr>\n",
       "      <th>4</th>\n",
       "      <td>30</td>\n",
       "      <td>Citigroup</td>\n",
       "      <td>USA</td>\n",
       "      <td>GCP Big Query</td>\n",
       "      <td>749 TB</td>\n",
       "      <td>Looker</td>\n",
       "      <td>367</td>\n",
       "      <td>702</td>\n",
       "      <td>0.974</td>\n",
       "      <td>0</td>\n",
       "    </tr>\n",
       "  </tbody>\n",
       "</table>\n",
       "</div>"
      ],
      "text/plain": [
       "   Sn          Companies Name Region Data Warehouse Cloud data storage size  \\\n",
       "0   5              Amazon.com    USA  GCP Big Query                  338 TB   \n",
       "1  70  Charter Communications    USA  GCP Big Query                  170 TB   \n",
       "2  66                     AIG    USA  GCP Big Query                  858 TB   \n",
       "3  44                 MetLife    USA  GCP Big Query                  853 TB   \n",
       "4  30               Citigroup    USA  GCP Big Query                  749 TB   \n",
       "\n",
       "  BI Tool  Net Profit  Service Cost  Probability of winning the opportunity  \\\n",
       "0  Looker        1165          1500                                   0.998   \n",
       "1  Looker         283           618                                   0.996   \n",
       "2  Looker         155           490                                   0.988   \n",
       "3  Looker         613           948                                   0.984   \n",
       "4  Looker         367           702                                   0.974   \n",
       "\n",
       "   Actual Class  \n",
       "0             1  \n",
       "1             1  \n",
       "2             0  \n",
       "3             1  \n",
       "4             0  "
      ]
     },
     "execution_count": 50,
     "metadata": {},
     "output_type": "execute_result"
    }
   ],
   "source": [
    "import pandas as pd\n",
    "\n",
    "# Load the dataset from the Excel file\n",
    "data = pd.read_excel(\"Bostonconsultancy-1.xlsx\")\n",
    "\n",
    "# Display the first 5 rows of the dataset\n",
    "data.head(5)"
   ]
  },
  {
   "cell_type": "markdown",
   "id": "bac2b42e",
   "metadata": {},
   "source": [
    "#### Step 2: ROC Curve and AUC Calculation\n",
    " The next step is to evaluate the predictive model's performance by plotting the Receiver Operating Characteristic (ROC) curve and calculating the Area Under the Curve (AUC). The ROC curve is a graphical representation of the trade-off between sensitivity (True Positive Rate) and specificity (False Positive Rate) at different thresholds.\n",
    "\n",
    "- False Positive Rate (FPR): This is the proportion of negative instances incorrectly classified as positive.\n",
    "- True Positive Rate (TPR): This is the proportion of positive instances correctly classified as positive.\n",
    "\n",
    "We use roc_curve from sklearn to calculate the FPR and TPR for various thresholds, and then use auc to calculate the AUC score."
   ]
  },
  {
   "cell_type": "code",
   "execution_count": 51,
   "id": "6c523e90",
   "metadata": {},
   "outputs": [
    {
     "name": "stdout",
     "output_type": "stream",
     "text": [
      "Receiver Operating Characteristic (ROC): 0.7147832817337462\n"
     ]
    }
   ],
   "source": [
    "from sklearn.metrics import roc_curve, auc\n",
    "import matplotlib.pyplot as plt\n",
    "\n",
    "# Calculate FPR, TPR, and thresholds for the ROC curve\n",
    "fpr, tpr, thresholds = roc_curve(data['Actual Class'], data['Probability of winning the opportunity'])\n",
    "\n",
    "# Calculate the AUC (Area Under the Curve)\n",
    "roc_auc = auc(fpr, tpr)\n",
    "print(f\"Receiver Operating Characteristic (ROC): {roc_auc}\")\n"
   ]
  },
  {
   "cell_type": "markdown",
   "id": "266b03af",
   "metadata": {},
   "source": [
    "#### next will plot the ruc curve"
   ]
  },
  {
   "cell_type": "code",
   "execution_count": 52,
   "id": "6ba2fb11",
   "metadata": {},
   "outputs": [
    {
     "data": {
      "image/png": "[encoded data removed]",
      "text/plain": [
       "<Figure size 800x600 with 1 Axes>"
      ]
     },
     "metadata": {},
     "output_type": "display_data"
    }
   ],
   "source": [
    "# Plot ROC Curve\n",
    "plt.figure(figsize=(8, 6))\n",
    "plt.plot(fpr, tpr, color='blue', label=f'ROC Curve (AUC = {roc_auc:.2f})')\n",
    "plt.plot([0, 1], [0, 1], color='gray', linestyle='--')  # Diagonal line representing random performance\n",
    "plt.xlabel('False Positive Rate')\n",
    "plt.ylabel('True Positive Rate')\n",
    "plt.title('ROC Curve')\n",
    "plt.legend(loc='lower right')\n",
    "plt.show()\n"
   ]
  },
  {
   "cell_type": "markdown",
   "id": "049297c0",
   "metadata": {},
   "source": [
    "#### Step 3: Identifying the Optimal Threshold Using Youden’s Index\n",
    "\n",
    "Youden's Index is a method for selecting the optimal threshold. It maximizes the sum of sensitivity and specificity, minimizing both false positives and false negatives. The formula for Youden’s Index is:\n",
    "\n",
    "     Youden’s Index = Sensitivity + Specificity − 1\n",
    "\n",
    "We calculate Youden's Index for all thresholds and find the threshold that maximizes this index."
   ]
  },
  {
   "cell_type": "code",
   "execution_count": 53,
   "id": "6c86098a",
   "metadata": {},
   "outputs": [
    {
     "name": "stdout",
     "output_type": "stream",
     "text": [
      "Optimal Threshold (maximizing Youden's Index): 0.34\n"
     ]
    }
   ],
   "source": [
    "import numpy as np\n",
    "\n",
    "# Calculate Youden's Index for each threshold\n",
    "youden_index = tpr - fpr\n",
    "\n",
    "# Identify the threshold that maximizes Youden's Index\n",
    "optimal_threshold = thresholds[np.argmax(youden_index)]\n",
    "\n",
    "print(f\"Optimal Threshold (maximizing Youden's Index): {optimal_threshold}\")\n"
   ]
  },
  {
   "cell_type": "markdown",
   "id": "0b105d00",
   "metadata": {},
   "source": [
    "The optimal threshold is the value that maximizes Youden's Index, balancing the trade-off between sensitivity and specificity."
   ]
  },
  {
   "cell_type": "markdown",
   "id": "52567f33",
   "metadata": {},
   "source": [
    "### Step 4: Calculate Performance Metrics at the Optimal Threshold"
   ]
  },
  {
   "cell_type": "code",
   "execution_count": 55,
   "id": "00b45bac",
   "metadata": {},
   "outputs": [
    {
     "name": "stdout",
     "output_type": "stream",
     "text": [
      "\n",
      "Performance Metrics at Optimal Threshold:\n",
      "Accuracy: 66.67%\n",
      "Precision: 60.00%\n",
      "Recall (Sensitivity): 88.24%\n",
      "F1 Score: 71.43%\n"
     ]
    }
   ],
   "source": [
    "from sklearn.metrics import accuracy_score, precision_score, recall_score, f1_score\n",
    "\n",
    "# Convert predicted probabilities to binary outcomes using the optimal threshold\n",
    "predicted_classes = (data['Probability of winning the opportunity'] >= optimal_threshold).astype(int)\n",
    "\n",
    "# Calculate Accuracy, Precision, Recall, and F1 Score\n",
    "accuracy = accuracy_score(data['Actual Class'], predicted_classes)\n",
    "precision = precision_score(data['Actual Class'], predicted_classes)\n",
    "recall = recall_score(data['Actual Class'], predicted_classes)\n",
    "f1 = f1_score(data['Actual Class'], predicted_classes)\n",
    "\n",
    "# Display the performance metrics\n",
    "print(\"\\nPerformance Metrics at Optimal Threshold:\")\n",
    "print(f\"Accuracy: {accuracy:.2%}\")\n",
    "print(f\"Precision: {precision:.2%}\")\n",
    "print(f\"Recall (Sensitivity): {recall:.2%}\")\n",
    "print(f\"F1 Score: {f1:.2%}\")\n"
   ]
  },
  {
   "cell_type": "markdown",
   "id": "98338459",
   "metadata": {},
   "source": [
    "# Step 5: Interpretation of the Performance Metrics\n",
    "\n",
    "The performance metrics provide insight into how well the model is performing:\n",
    "\n",
    "### Accuracy: 66.67%\n",
    "This indicates that approximately 67% of all predictions were correct. Accuracy is a general metric but may not be sufficient for imbalanced datasets.\n",
    "\n",
    "### Precision: 60.00%\n",
    "This means that 60% of the predictions that were labeled as positive are actually correct. In the business context, this ensures that resources are used efficiently, focusing on the clients that are more likely to win.\n",
    "\n",
    "### Recall: 88.24%\n",
    "This indicates that 88% of the actual opportunities are correctly identified. High recall is important in this case because we don't want to miss potential clients, which could result in lost revenue.\n",
    "\n",
    "### F1 Score: 71.43%\n",
    "The F1 score provides a balanced measure of both Precision and Recall. In this case, it shows that the model is doing a good job in balancing both, though there is still room for improvement.\n"
   ]
  },
  {
   "cell_type": "code",
   "execution_count": null,
   "id": "2d5e09fb",
   "metadata": {},
   "outputs": [],
   "source": []
  }
 ],
 "metadata": {
  "kernelspec": {
   "display_name": "Python 3 (ipykernel)",
   "language": "python",
   "name": "python3"
  },
  "language_info": {
   "codemirror_mode": {
    "name": "ipython",
    "version": 3
   },
   "file_extension": ".py",
   "mimetype": "text/x-python",
   "name": "python",
   "nbconvert_exporter": "python",
   "pygments_lexer": "ipython3",
   "version": "3.9.13"
  }
 },
 "nbformat": 4,
 "nbformat_minor": 5
}
